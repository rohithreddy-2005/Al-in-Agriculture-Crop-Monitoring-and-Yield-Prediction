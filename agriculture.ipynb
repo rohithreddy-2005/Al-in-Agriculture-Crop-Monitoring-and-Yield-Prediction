{
  "nbformat": 4,
  "nbformat_minor": 0,
  "metadata": {
    "colab": {
      "provenance": [],
      "authorship_tag": "ABX9TyNw1Ea/+ctDhog+u4S5NF2y",
      "include_colab_link": true
    },
    "kernelspec": {
      "name": "python3",
      "display_name": "Python 3"
    },
    "language_info": {
      "name": "python"
    }
  },
  "cells": [
    {
      "cell_type": "markdown",
      "metadata": {
        "id": "view-in-github",
        "colab_type": "text"
      },
      "source": [
        "<a href=\"https://colab.research.google.com/github/rohithreddy-2005/Al-in-Agriculture-Crop-Monitoring-and-Yield-Prediction/blob/main/agriculture.ipynb\" target=\"_parent\"><img src=\"https://colab.research.google.com/assets/colab-badge.svg\" alt=\"Open In Colab\"/></a>"
      ]
    },
    {
      "cell_type": "code",
      "execution_count": 1,
      "metadata": {
        "colab": {
          "base_uri": "https://localhost:8080/"
        },
        "id": "G6xR-0hH_MWM",
        "outputId": "22ce58c5-ca14-41a6-957b-10f4818e0f82"
      },
      "outputs": [
        {
          "output_type": "stream",
          "name": "stdout",
          "text": [
            "📊 Yield Predictions: [2.2]\n",
            "📉 Mean Squared Error: 0.010000000000000018\n"
          ]
        }
      ],
      "source": [
        "import numpy as np\n",
        "import pandas as pd\n",
        "from sklearn.linear_model import LinearRegression\n",
        "from sklearn.model_selection import train_test_split\n",
        "from sklearn.metrics import mean_squared_error\n",
        "import cv2\n",
        "import matplotlib.pyplot as plt\n",
        "\n",
        "# 1️⃣ Yield Prediction: Linear Regression Model\n",
        "# Sample dataset: [Rainfall (mm), Temperature (°C), Fertilizer (kg/acre)]\n",
        "data = {\n",
        "    \"Rainfall\": [120, 100, 140, 130, 90],\n",
        "    \"Temperature\": [32, 35, 30, 28, 34],\n",
        "    \"Fertilizer\": [50, 45, 60, 55, 40],\n",
        "    \"Yield\": [2.5, 2.1, 2.9, 2.7, 2.0]  # in tons/acre\n",
        "}\n",
        "\n",
        "df = pd.DataFrame(data)\n",
        "X = df[[\"Rainfall\", \"Temperature\", \"Fertilizer\"]]\n",
        "y = df[\"Yield\"]\n",
        "\n",
        "X_train, X_test, y_train, y_test = train_test_split(X, y, test_size=0.2, random_state=42)\n",
        "model = LinearRegression()\n",
        "model.fit(X_train, y_train)\n",
        "\n",
        "# Predicting\n",
        "predictions = model.predict(X_test)\n",
        "print(\"📊 Yield Predictions:\", predictions)\n",
        "print(\"📉 Mean Squared Error:\", mean_squared_error(y_test, predictions))\n",
        "\n",
        "\n",
        "# 2️⃣ Crop Monitoring: Detect if leaf is healthy (simulation using color thresholding)\n",
        "def monitor_crop(image_path):\n",
        "    img = cv2.imread(image_path)\n",
        "    img_hsv = cv2.cvtColor(img, cv2.COLOR_BGR2HSV)\n",
        "\n",
        "    # Simulate unhealthy (brown/yellow) area detection in HSV\n",
        "    lower_unhealthy = np.array([10, 50, 50])\n",
        "    upper_unhealthy = np.array([35, 255, 255])\n",
        "    mask = cv2.inRange(img_hsv, lower_unhealthy, upper_unhealthy)\n",
        "\n",
        "    unhealthy_percent = (np.sum(mask > 0) / mask.size) * 100\n",
        "    status = \"Unhealthy\" if unhealthy_percent > 5 else \"Healthy\"\n",
        "\n",
        "    print(f\"🌿 Leaf Status: {status} ({unhealthy_percent:.2f}% affected)\")\n",
        "\n",
        "    # Show the mask (optional visualization)\n",
        "    plt.subplot(1, 2, 1)\n",
        "    plt.imshow(cv2.cvtColor(img, cv2.COLOR_BGR2RGB))\n",
        "    plt.title(\"Original Leaf\")\n",
        "\n",
        "    plt.subplot(1, 2, 2)\n",
        "    plt.imshow(mask, cmap='gray')\n",
        "    plt.title(\"Detected Unhealthy Areas\")\n",
        "\n",
        "    plt.show()\n",
        "\n",
        "# Provide your own image path of a leaf\n",
        "# monitor_crop(\"leaf_sample.jpg\")"
      ]
    }
  ]
}